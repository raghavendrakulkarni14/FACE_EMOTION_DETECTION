{
 "cells": [
  {
   "cell_type": "code",
   "execution_count": null,
   "metadata": {},
   "outputs": [],
   "source": [
    "pip install tensorflow-gpu"
   ]
  },
  {
   "cell_type": "code",
   "execution_count": null,
   "metadata": {},
   "outputs": [],
   "source": [
    "pip install opencv-python"
   ]
  },
  {
   "cell_type": "code",
   "execution_count": null,
   "metadata": {},
   "outputs": [],
   "source": [
    "pip install opencv-contrib-python"
   ]
  },
  {
   "cell_type": "code",
   "execution_count": 101,
   "metadata": {},
   "outputs": [],
   "source": [
    "#importing required libraries\n",
    "import tensorflow as tf\n",
    "import cv2\n",
    "import os\n",
    "import matplotlib.pyplot as plt\n",
    "import numpy as np"
   ]
  },
  {
   "cell_type": "code",
   "execution_count": 102,
   "metadata": {},
   "outputs": [],
   "source": [
    "#defining emotions\n",
    "classes = ['angry','fear','happy','neutral']"
   ]
  },
  {
   "cell_type": "markdown",
   "metadata": {},
   "source": [
    "# Read images and convert them to array"
   ]
  },
  {
   "cell_type": "code",
   "execution_count": 103,
   "metadata": {},
   "outputs": [],
   "source": [
    "frame = cv2.imread(r'sad image.jpg')"
   ]
  },
  {
   "cell_type": "code",
   "execution_count": 104,
   "metadata": {},
   "outputs": [],
   "source": [
    "#loading the deep learning model\n",
    "new_model= tf.keras.models.load_model('emotion detection model.h5')"
   ]
  },
  {
   "cell_type": "code",
   "execution_count": 105,
   "metadata": {},
   "outputs": [],
   "source": [
    "facecascade = cv2.CascadeClassifier(cv2.data.haarcascades+'haarcascade_frontalface_default.xml')"
   ]
  },
  {
   "cell_type": "code",
   "execution_count": 106,
   "metadata": {},
   "outputs": [],
   "source": [
    "# converting the image in grayscale\n",
    "grey = cv2.cvtColor(frame,cv2.COLOR_BGR2RGB)"
   ]
  },
  {
   "cell_type": "code",
   "execution_count": 107,
   "metadata": {},
   "outputs": [],
   "source": [
    "faces = facecascade.detectMultiScale(grey,1.2,1)\n",
    "for x,y,w,h in faces:\n",
    "    \n",
    "    roi_grey =  grey[y:y+h,x:x+w]\n",
    "    roi_color = frame[y:y+h,x:x+w]\n",
    "    cv2.rectangle(frame,(x,y),(x+w,y+h),(0,255,0),2)\n",
    "    faces = facecascade.detectMultiScale(roi_grey)\n",
    "    if len(faces)==0:\n",
    "        print('Face not detected')\n",
    "    else:\n",
    "        for (ex,ey,ew,eh) in faces:\n",
    "            face_roi = roi_color[ey:ey+eh,ex:ex+ew]"
   ]
  },
  {
   "cell_type": "code",
   "execution_count": 108,
   "metadata": {},
   "outputs": [],
   "source": [
    "final_image = cv2.resize(face_roi,(48,48))\n",
    "final_image = np.expand_dims(final_image,axis=0)\n",
    "final_image = final_image/255.0"
   ]
  },
  {
   "cell_type": "code",
   "execution_count": 109,
   "metadata": {},
   "outputs": [],
   "source": [
    "predictions=new_model.predict(final_image)"
   ]
  },
  {
   "cell_type": "code",
   "execution_count": 110,
   "metadata": {},
   "outputs": [
    {
     "name": "stdout",
     "output_type": "stream",
     "text": [
      "[[0.1637061  0.72855806 0.00256223 0.10517365]]\n"
     ]
    }
   ],
   "source": [
    "print(predictions)"
   ]
  },
  {
   "cell_type": "code",
   "execution_count": 111,
   "metadata": {},
   "outputs": [
    {
     "data": {
      "text/plain": [
       "'fear'"
      ]
     },
     "execution_count": 111,
     "metadata": {},
     "output_type": "execute_result"
    }
   ],
   "source": [
    "classes[predictions.argmax()]"
   ]
  },
  {
   "cell_type": "markdown",
   "metadata": {},
   "source": [
    "# Realtime Video Demo"
   ]
  },
  {
   "cell_type": "code",
   "execution_count": null,
   "metadata": {},
   "outputs": [],
   "source": [
    "import cv2\n",
    "font = cv2.FONT_HERSHEY_SIMPLEX\n",
    "\n",
    "facecascade = cv2.CascadeClassifier(cv2.data.haarcascades+'haarcascade_frontalface_default.xml')\n",
    "#defining function to detect the face and predict the emotion\n",
    "def face_detection(img):\n",
    "    grey = cv2.cvtColor(img,cv2.COLOR_BGR2RGB)\n",
    "    faces = facecascade.detectMultiScale(grey,1.3,1)\n",
    "        \n",
    "    \n",
    "    for (x,y,w,h) in faces:\n",
    "        x = x - 5\n",
    "        y = y + 7\n",
    "        w = w + 10\n",
    "        h = h + 2\n",
    "        roi_grey =  grey[y:y+h,x:x+w]\n",
    "        roi_color = img[y:y+h,x:x+w]\n",
    "        cv2.rectangle(img,(x,y),(x+w,y+h),(0,255,0),2)\n",
    "        faces = facecascade.detectMultiScale(roi_grey)\n",
    "        if len(faces)==():\n",
    "            raise IOError('Face not detected')\n",
    "            \n",
    "        else:\n",
    "            for (ex,ey,ew,eh) in faces:\n",
    "                face_roi = roi_color[ey:ey+eh,ex:ex+ew]\n",
    "                \n",
    "        final_image = cv2.resize(roi_color,(48,48))\n",
    "        final_image = np.expand_dims(final_image,axis=0)\n",
    "        final_image = final_image/255.0\n",
    "    \n",
    "        predictions=new_model.predict(final_image)\n",
    "        label = classes[predictions.argmax()]\n",
    "        cv2.putText(frame,label, (50,60),font,2, (120,10,200),3)\n",
    "    return img\n",
    "#open the camera\n",
    "cap = cv2.VideoCapture(0)\n",
    "if not cap.isOpened():\n",
    "    cap = cv2.VideoCapture(1)\n",
    "if not cap.isOpened():\n",
    "    raise IOError('Cannot open webcam')\n",
    "while True:\n",
    "    ret,frame = cap.read()\n",
    "    cv2.imshow('Face emotion recognition',face_detection(frame))\n",
    "    if cv2.waitKey(20)& 0xff == ord('q'):\n",
    "        break\n",
    "        \n",
    "cap.release()\n",
    "cv2.destroyAllWindows()\n",
    "        \n",
    "        \n",
    "    "
   ]
  }
 ],
 "metadata": {
  "kernelspec": {
   "display_name": "Python 3",
   "language": "python",
   "name": "python3"
  },
  "language_info": {
   "codemirror_mode": {
    "name": "ipython",
    "version": 3
   },
   "file_extension": ".py",
   "mimetype": "text/x-python",
   "name": "python",
   "nbconvert_exporter": "python",
   "pygments_lexer": "ipython3",
   "version": "3.8.5"
  }
 },
 "nbformat": 4,
 "nbformat_minor": 5
}
